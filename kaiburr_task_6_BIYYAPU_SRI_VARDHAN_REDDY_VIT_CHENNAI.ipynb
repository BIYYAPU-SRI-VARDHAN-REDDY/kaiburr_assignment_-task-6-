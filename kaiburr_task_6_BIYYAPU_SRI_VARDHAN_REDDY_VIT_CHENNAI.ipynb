{
  "nbformat": 4,
  "nbformat_minor": 0,
  "metadata": {
    "colab": {
      "provenance": []
    },
    "kernelspec": {
      "name": "python3",
      "display_name": "Python 3"
    },
    "language_info": {
      "name": "python"
    }
  },
  "cells": [
    {
      "cell_type": "markdown",
      "source": [
        "# **KAIBURR ASSIGNMENT-(TASK-6)**\n",
        "# **BIYYAPU SRI VARDHAN REDDY-(19BCE1338)**\n",
        "# **VIT CHENNAI**"
      ],
      "metadata": {
        "id": "HhbmOGqYvu9P"
      }
    },
    {
      "cell_type": "markdown",
      "source": [
        "## **Task 6. Data Science example.**\n",
        "\n",
        "## **Implement a sample machine learning program for a problem statement of your choice**"
      ],
      "metadata": {
        "id": "YnjE1sxqwKhO"
      }
    },
    {
      "cell_type": "markdown",
      "source": [
        "### import necessary libraries"
      ],
      "metadata": {
        "id": "AN07NG1Cwe0f"
      }
    },
    {
      "cell_type": "code",
      "source": [
        "# import necessary libraries\n",
        "import pandas as pd\n",
        "import numpy as np\n",
        "from sklearn.model_selection import train_test_split\n",
        "from sklearn.tree import DecisionTreeClassifier\n",
        "from sklearn.metrics import accuracy_score"
      ],
      "metadata": {
        "id": "ILK1iKK_wjGt"
      },
      "execution_count": 8,
      "outputs": []
    },
    {
      "cell_type": "markdown",
      "source": [
        "### load the dataset"
      ],
      "metadata": {
        "id": "01vQ-huhwlQa"
      }
    },
    {
      "cell_type": "code",
      "source": [
        "# load the dataset\n",
        "crop_data = pd.read_csv('Crop_recommendation.csv')"
      ],
      "metadata": {
        "id": "SyOD2IgjwoKz"
      },
      "execution_count": 10,
      "outputs": []
    },
    {
      "cell_type": "markdown",
      "source": [
        "### view the first 5 rows of data"
      ],
      "metadata": {
        "id": "gIj3JY7Hws2Q"
      }
    },
    {
      "cell_type": "code",
      "source": [
        "# view the first 5 rows of data\n",
        "print(crop_data.head())"
      ],
      "metadata": {
        "colab": {
          "base_uri": "https://localhost:8080/"
        },
        "id": "TeHFI2dBwwnx",
        "outputId": "447f6529-68cb-4298-f249-d1e55b4d7db4"
      },
      "execution_count": 11,
      "outputs": [
        {
          "output_type": "stream",
          "name": "stdout",
          "text": [
            "    N   P   K  temperature   humidity        ph    rainfall label\n",
            "0  90  42  43    20.879744  82.002744  6.502985  202.935536  rice\n",
            "1  85  58  41    21.770462  80.319644  7.038096  226.655537  rice\n",
            "2  60  55  44    23.004459  82.320763  7.840207  263.964248  rice\n",
            "3  74  35  40    26.491096  80.158363  6.980401  242.864034  rice\n",
            "4  78  42  42    20.130175  81.604873  7.628473  262.717340  rice\n"
          ]
        }
      ]
    },
    {
      "cell_type": "markdown",
      "source": [
        "### view the last 5 rows of data"
      ],
      "metadata": {
        "id": "X5hH6bbow0R-"
      }
    },
    {
      "cell_type": "code",
      "source": [
        "# view the last 5 rows of data\n",
        "print(crop_data.tail())"
      ],
      "metadata": {
        "colab": {
          "base_uri": "https://localhost:8080/"
        },
        "id": "MzgOAwcsw4pX",
        "outputId": "b48073d7-884f-47af-faa3-80fbf5dbb1a5"
      },
      "execution_count": 21,
      "outputs": [
        {
          "output_type": "stream",
          "name": "stdout",
          "text": [
            "        N   P   K  temperature   humidity        ph    rainfall   label\n",
            "2195  107  34  32    26.774637  66.413269  6.780064  177.774507  coffee\n",
            "2196   99  15  27    27.417112  56.636362  6.086922  127.924610  coffee\n",
            "2197  118  33  30    24.131797  67.225123  6.362608  173.322839  coffee\n",
            "2198  117  32  34    26.272418  52.127394  6.758793  127.175293  coffee\n",
            "2199  104  18  30    23.603016  60.396475  6.779833  140.937041  coffee\n"
          ]
        }
      ]
    },
    {
      "cell_type": "markdown",
      "source": [
        "### create a list of features and target variable\n",
        "### features include soil type, pH level, rainfall, temperature etc.\n",
        "### target variable is the crop to be recommended"
      ],
      "metadata": {
        "id": "zomw_VoCxBvj"
      }
    },
    {
      "cell_type": "code",
      "source": [
        "# create a list of features and target variable\n",
        "# features include soil type, pH level, rainfall, temperature etc.\n",
        "# target variable is the crop to be recommended\n",
        "features = ['N', 'P', 'K', 'temperature', 'humidity', 'ph', 'rainfall']\n",
        "target = ['label']"
      ],
      "metadata": {
        "id": "jOfZ3zGNxHBX"
      },
      "execution_count": 14,
      "outputs": []
    },
    {
      "cell_type": "markdown",
      "source": [
        "### split the data into training and testing datasets"
      ],
      "metadata": {
        "id": "WE2sXgz5xJ1e"
      }
    },
    {
      "cell_type": "code",
      "source": [
        "# split the data into training and testing datasets\n",
        "train_data, test_data, train_target, test_target = train_test_split(crop_data[features], crop_data[target], test_size = 0.2, random_state = 0)"
      ],
      "metadata": {
        "id": "6oXQoji6xJiO"
      },
      "execution_count": 15,
      "outputs": []
    },
    {
      "cell_type": "markdown",
      "source": [
        "### create the decision tree classifier model"
      ],
      "metadata": {
        "id": "D-1EXldVxP7I"
      }
    },
    {
      "cell_type": "code",
      "source": [
        "# create the decision tree classifier model\n",
        "model = DecisionTreeClassifier()"
      ],
      "metadata": {
        "id": "GKYgqOC0xThY"
      },
      "execution_count": 16,
      "outputs": []
    },
    {
      "cell_type": "markdown",
      "source": [
        "### train the model on the training dataset"
      ],
      "metadata": {
        "id": "zNU9MGlNxVs6"
      }
    },
    {
      "cell_type": "code",
      "source": [
        "# train the model on the training dataset\n",
        "model.fit(train_data, train_target)"
      ],
      "metadata": {
        "colab": {
          "base_uri": "https://localhost:8080/",
          "height": 74
        },
        "id": "Gl4DEchexX_i",
        "outputId": "332a542d-69ec-4f30-91e6-704f2249f3f8"
      },
      "execution_count": 17,
      "outputs": [
        {
          "output_type": "execute_result",
          "data": {
            "text/plain": [
              "DecisionTreeClassifier()"
            ],
            "text/html": [
              "<style>#sk-container-id-1 {color: black;background-color: white;}#sk-container-id-1 pre{padding: 0;}#sk-container-id-1 div.sk-toggleable {background-color: white;}#sk-container-id-1 label.sk-toggleable__label {cursor: pointer;display: block;width: 100%;margin-bottom: 0;padding: 0.3em;box-sizing: border-box;text-align: center;}#sk-container-id-1 label.sk-toggleable__label-arrow:before {content: \"▸\";float: left;margin-right: 0.25em;color: #696969;}#sk-container-id-1 label.sk-toggleable__label-arrow:hover:before {color: black;}#sk-container-id-1 div.sk-estimator:hover label.sk-toggleable__label-arrow:before {color: black;}#sk-container-id-1 div.sk-toggleable__content {max-height: 0;max-width: 0;overflow: hidden;text-align: left;background-color: #f0f8ff;}#sk-container-id-1 div.sk-toggleable__content pre {margin: 0.2em;color: black;border-radius: 0.25em;background-color: #f0f8ff;}#sk-container-id-1 input.sk-toggleable__control:checked~div.sk-toggleable__content {max-height: 200px;max-width: 100%;overflow: auto;}#sk-container-id-1 input.sk-toggleable__control:checked~label.sk-toggleable__label-arrow:before {content: \"▾\";}#sk-container-id-1 div.sk-estimator input.sk-toggleable__control:checked~label.sk-toggleable__label {background-color: #d4ebff;}#sk-container-id-1 div.sk-label input.sk-toggleable__control:checked~label.sk-toggleable__label {background-color: #d4ebff;}#sk-container-id-1 input.sk-hidden--visually {border: 0;clip: rect(1px 1px 1px 1px);clip: rect(1px, 1px, 1px, 1px);height: 1px;margin: -1px;overflow: hidden;padding: 0;position: absolute;width: 1px;}#sk-container-id-1 div.sk-estimator {font-family: monospace;background-color: #f0f8ff;border: 1px dotted black;border-radius: 0.25em;box-sizing: border-box;margin-bottom: 0.5em;}#sk-container-id-1 div.sk-estimator:hover {background-color: #d4ebff;}#sk-container-id-1 div.sk-parallel-item::after {content: \"\";width: 100%;border-bottom: 1px solid gray;flex-grow: 1;}#sk-container-id-1 div.sk-label:hover label.sk-toggleable__label {background-color: #d4ebff;}#sk-container-id-1 div.sk-serial::before {content: \"\";position: absolute;border-left: 1px solid gray;box-sizing: border-box;top: 0;bottom: 0;left: 50%;z-index: 0;}#sk-container-id-1 div.sk-serial {display: flex;flex-direction: column;align-items: center;background-color: white;padding-right: 0.2em;padding-left: 0.2em;position: relative;}#sk-container-id-1 div.sk-item {position: relative;z-index: 1;}#sk-container-id-1 div.sk-parallel {display: flex;align-items: stretch;justify-content: center;background-color: white;position: relative;}#sk-container-id-1 div.sk-item::before, #sk-container-id-1 div.sk-parallel-item::before {content: \"\";position: absolute;border-left: 1px solid gray;box-sizing: border-box;top: 0;bottom: 0;left: 50%;z-index: -1;}#sk-container-id-1 div.sk-parallel-item {display: flex;flex-direction: column;z-index: 1;position: relative;background-color: white;}#sk-container-id-1 div.sk-parallel-item:first-child::after {align-self: flex-end;width: 50%;}#sk-container-id-1 div.sk-parallel-item:last-child::after {align-self: flex-start;width: 50%;}#sk-container-id-1 div.sk-parallel-item:only-child::after {width: 0;}#sk-container-id-1 div.sk-dashed-wrapped {border: 1px dashed gray;margin: 0 0.4em 0.5em 0.4em;box-sizing: border-box;padding-bottom: 0.4em;background-color: white;}#sk-container-id-1 div.sk-label label {font-family: monospace;font-weight: bold;display: inline-block;line-height: 1.2em;}#sk-container-id-1 div.sk-label-container {text-align: center;}#sk-container-id-1 div.sk-container {/* jupyter's `normalize.less` sets `[hidden] { display: none; }` but bootstrap.min.css set `[hidden] { display: none !important; }` so we also need the `!important` here to be able to override the default hidden behavior on the sphinx rendered scikit-learn.org. See: https://github.com/scikit-learn/scikit-learn/issues/21755 */display: inline-block !important;position: relative;}#sk-container-id-1 div.sk-text-repr-fallback {display: none;}</style><div id=\"sk-container-id-1\" class=\"sk-top-container\"><div class=\"sk-text-repr-fallback\"><pre>DecisionTreeClassifier()</pre><b>In a Jupyter environment, please rerun this cell to show the HTML representation or trust the notebook. <br />On GitHub, the HTML representation is unable to render, please try loading this page with nbviewer.org.</b></div><div class=\"sk-container\" hidden><div class=\"sk-item\"><div class=\"sk-estimator sk-toggleable\"><input class=\"sk-toggleable__control sk-hidden--visually\" id=\"sk-estimator-id-1\" type=\"checkbox\" checked><label for=\"sk-estimator-id-1\" class=\"sk-toggleable__label sk-toggleable__label-arrow\">DecisionTreeClassifier</label><div class=\"sk-toggleable__content\"><pre>DecisionTreeClassifier()</pre></div></div></div></div></div>"
            ]
          },
          "metadata": {},
          "execution_count": 17
        }
      ]
    },
    {
      "cell_type": "markdown",
      "source": [
        "### make predictions on the test dataset"
      ],
      "metadata": {
        "id": "ZxuZynCGxa4t"
      }
    },
    {
      "cell_type": "code",
      "source": [
        "# make predictions on the test dataset\n",
        "predictions = model.predict(test_data)"
      ],
      "metadata": {
        "id": "ylIUDLdKxdFT"
      },
      "execution_count": 18,
      "outputs": []
    },
    {
      "cell_type": "markdown",
      "source": [
        "### calculate the accuracy of the model"
      ],
      "metadata": {
        "id": "W9vqnm2CxfeW"
      }
    },
    {
      "cell_type": "code",
      "source": [
        "# calculate the accuracy of the model\n",
        "accuracy = accuracy_score(test_target, predictions)"
      ],
      "metadata": {
        "id": "y8vx_I7OxhEc"
      },
      "execution_count": 19,
      "outputs": []
    },
    {
      "cell_type": "markdown",
      "source": [
        "### print the accuracy score"
      ],
      "metadata": {
        "id": "ceh1pZvZxi8Y"
      }
    },
    {
      "cell_type": "code",
      "source": [
        "# print the accuracy score\n",
        "print(\"Accuracy:\",accuracy)"
      ],
      "metadata": {
        "colab": {
          "base_uri": "https://localhost:8080/"
        },
        "id": "EAQOkggFxlBB",
        "outputId": "a3b7320b-31ad-4475-8297-1aeaaa10aa6e"
      },
      "execution_count": 20,
      "outputs": [
        {
          "output_type": "stream",
          "name": "stdout",
          "text": [
            "Accuracy: 0.9863636363636363\n"
          ]
        }
      ]
    }
  ]
}